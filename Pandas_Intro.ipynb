{
  "nbformat": 4,
  "nbformat_minor": 0,
  "metadata": {
    "colab": {
      "name": "Pandas Intro.ipynb",
      "provenance": [],
      "include_colab_link": true
    },
    "kernelspec": {
      "name": "python3",
      "display_name": "Python 3"
    }
  },
  "cells": [
    {
      "cell_type": "markdown",
      "metadata": {
        "id": "view-in-github",
        "colab_type": "text"
      },
      "source": [
        "<a href=\"https://colab.research.google.com/github/iam-ajitkumartoppo/Pandas_Study_Materials/blob/main/Pandas_Intro.ipynb\" target=\"_parent\"><img src=\"https://colab.research.google.com/assets/colab-badge.svg\" alt=\"Open In Colab\"/></a>"
      ]
    },
    {
      "metadata": {
        "id": "8GLCM_xrxJdc"
      },
      "cell_type": "markdown",
      "source": [
        "Let's start by importing Pandas. Click on a cell to activate it. Press Shift + Enter to execute. Cells should be executed in order."
      ]
    },
    {
      "metadata": {
        "id": "U_5zMEGZL96I"
      },
      "cell_type": "code",
      "source": [
        "import pandas as pd"
      ],
      "execution_count": null,
      "outputs": []
    },
    {
      "metadata": {
        "id": "7qQ1n2fkx234"
      },
      "cell_type": "markdown",
      "source": [
        "## Load / Create Data Frame\n",
        "We can read CSV or excel files to import data. We can also create dataframes programatically like this:"
      ]
    },
    {
      "metadata": {
        "id": "yyFj31jcMmH6"
      },
      "cell_type": "code",
      "source": [
        "df = pd.DataFrame({'Artist':['Billie Holiday','Jimi Hendrix', 'Miles Davis', 'SIA'],\n",
        "              'Genre': ['Jazz', 'Rock', 'Jazz', 'Pop'],\n",
        "              'Listeners': [1300000, 2700000, 1500000, 2000000],\n",
        "              'Plays': [27000000, 70000000, 48000000, 74000000]})"
      ],
      "execution_count": null,
      "outputs": []
    },
    {
      "metadata": {
        "id": "wXj4OuOrxwJm"
      },
      "cell_type": "markdown",
      "source": [
        " The variable `df` now contains a dataframe. Executing this cell shows the contents of the dataframe"
      ]
    },
    {
      "metadata": {
        "id": "WF4_LVYOO__m"
      },
      "cell_type": "code",
      "source": [
        "df"
      ],
      "execution_count": null,
      "outputs": []
    },
    {
      "metadata": {
        "id": "6LUcXFMKyF6z"
      },
      "cell_type": "markdown",
      "source": [
        "## Selection\n",
        "We can select any column using its label:"
      ]
    },
    {
      "metadata": {
        "id": "sTNHtQz3Mu_K"
      },
      "cell_type": "code",
      "source": [
        "df['Artist']"
      ],
      "execution_count": null,
      "outputs": []
    },
    {
      "metadata": {
        "id": "UeH1ClC3yOJy"
      },
      "cell_type": "markdown",
      "source": [
        "We can select one or multiple rows using their numbers (inclusive of both bounding row numbers):"
      ]
    },
    {
      "metadata": {
        "id": "41MpPCPwM0AR"
      },
      "cell_type": "code",
      "source": [
        "df.loc[1:3]"
      ],
      "execution_count": null,
      "outputs": []
    },
    {
      "metadata": {
        "id": "fhOMUtTNPnc0"
      },
      "cell_type": "code",
      "source": [
        "# Exercise: Select only row #0\n",
        "\n"
      ],
      "execution_count": null,
      "outputs": []
    },
    {
      "metadata": {
        "id": "7eeFjuAUyTDj"
      },
      "cell_type": "markdown",
      "source": [
        "We can select any slice of the table using a both column label and row numbers using loc:"
      ]
    },
    {
      "metadata": {
        "id": "p7EPN96RPHQt"
      },
      "cell_type": "code",
      "source": [
        "df.loc[1:3,['Artist']]"
      ],
      "execution_count": null,
      "outputs": []
    },
    {
      "metadata": {
        "id": "ov_6TtCvPubJ"
      },
      "cell_type": "code",
      "source": [
        "# Exercise: Select 'Artist' and 'Plays' for rows #1 and #2\n"
      ],
      "execution_count": null,
      "outputs": []
    },
    {
      "metadata": {
        "id": "GeuS62DoyXlJ"
      },
      "cell_type": "markdown",
      "source": [
        "## Filtering\n",
        "Now it gets more interesting. We can easily filter rows using the values of a specific row. For example, here are our jazz musicians:"
      ]
    },
    {
      "metadata": {
        "id": "ax8qDMHfPQmP"
      },
      "cell_type": "code",
      "source": [
        "df[df['Genre'] == \"Jazz\" ]"
      ],
      "execution_count": null,
      "outputs": []
    },
    {
      "metadata": {
        "id": "Surgh6XVRmlT"
      },
      "cell_type": "code",
      "source": [
        "# Exercise: Select the row where the Genre is 'Rock'\n",
        "\n"
      ],
      "execution_count": null,
      "outputs": []
    },
    {
      "metadata": {
        "id": "a33J488lyeFj"
      },
      "cell_type": "markdown",
      "source": [
        "Here are the artists who have more than 1,800,000 listeners:"
      ]
    },
    {
      "metadata": {
        "id": "H1Ld-RXQPTLL"
      },
      "cell_type": "code",
      "source": [
        "df[df['Listeners'] > 1800000 ]"
      ],
      "execution_count": null,
      "outputs": []
    },
    {
      "metadata": {
        "id": "8XLaLBKORva4"
      },
      "cell_type": "code",
      "source": [
        "# Exercise: Select the rows where 'Plays' is less than 50,000,000\n",
        "\n"
      ],
      "execution_count": null,
      "outputs": []
    },
    {
      "metadata": {
        "id": "MPeYsXStyuwA"
      },
      "cell_type": "markdown",
      "source": [
        "## Grouping"
      ]
    },
    {
      "metadata": {
        "id": "qPG_jFSdPMF5"
      },
      "cell_type": "code",
      "source": [
        "df.groupby('Genre').sum()"
      ],
      "execution_count": null,
      "outputs": []
    },
    {
      "metadata": {
        "id": "kb5smli-PVE3"
      },
      "cell_type": "code",
      "source": [
        "# Exercise: Group by Genre, use mean() as the aggregation function \n"
      ],
      "execution_count": null,
      "outputs": []
    },
    {
      "metadata": {
        "id": "g2IFgCF4Rg48"
      },
      "cell_type": "code",
      "source": [
        "# Exercise: Group by Genre, use max() as the aggregation function \n"
      ],
      "execution_count": null,
      "outputs": []
    }
  ]
}